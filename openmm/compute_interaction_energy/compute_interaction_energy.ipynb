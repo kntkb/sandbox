{
 "cells": [
  {
   "cell_type": "markdown",
   "id": "53a768d9-7143-4295-be12-6cadb49a01bd",
   "metadata": {},
   "source": [
    "### Reproduce cookbook\n",
    "\n",
    "https://openmm.github.io/openmm-cookbook/latest/notebooks/cookbook/Computing%20Interaction%20Energies.html"
   ]
  },
  {
   "cell_type": "code",
   "execution_count": 1,
   "id": "b3ad1cab-faa7-4d52-8457-e46761c5fcc4",
   "metadata": {},
   "outputs": [],
   "source": [
    "from openmm import *\n",
    "from openmm.app import *\n",
    "from openmm.unit import *"
   ]
  },
  {
   "cell_type": "code",
   "execution_count": 2,
   "id": "0bcd6ebd-9565-4bd1-8710-c4350492cc77",
   "metadata": {},
   "outputs": [],
   "source": [
    "pdb = PDBFile('villin.pdb')\n",
    "solvent = set([a.index for a in pdb.topology.atoms() if a.residue.name in ('HOH', 'Cl')])\n",
    "protein = set([a.index for a in pdb.topology.atoms() if a.index not in solvent])"
   ]
  },
  {
   "cell_type": "code",
   "execution_count": 3,
   "id": "8222b96b-6ca0-4cfc-9d75-a442c10afcb0",
   "metadata": {},
   "outputs": [],
   "source": [
    "forcefield = ForceField('amber14-all.xml', 'amber14/tip3pfb.xml')\n",
    "system = forcefield.createSystem(pdb.topology, nonbondedMethod=PME)\n",
    "for force in system.getForces():\n",
    "    if isinstance(force, NonbondedForce):\n",
    "        force.setForceGroup(0)\n",
    "        force.addGlobalParameter(\"solute_coulomb_scale\", 1)\n",
    "        force.addGlobalParameter(\"solute_lj_scale\", 1)\n",
    "        force.addGlobalParameter(\"solvent_coulomb_scale\", 1)\n",
    "        force.addGlobalParameter(\"solvent_lj_scale\", 1)\n",
    "        for i in range(force.getNumParticles()):\n",
    "            charge, sigma, epsilon = force.getParticleParameters(i)\n",
    "            force.setParticleParameters(i, 0, 0, 0)\n",
    "            if i in protein:\n",
    "                force.addParticleParameterOffset(\"solute_coulomb_scale\", i, charge, 0, 0)\n",
    "                force.addParticleParameterOffset(\"solute_lj_scale\", i, 0, sigma, epsilon)\n",
    "            else:\n",
    "                force.addParticleParameterOffset(\"solvent_coulomb_scale\", i, charge, 0, 0)\n",
    "                force.addParticleParameterOffset(\"solvent_lj_scale\", i, 0, sigma, epsilon)\n",
    "        for i in range(force.getNumExceptions()):\n",
    "            p1, p2, chargeProd, sigma, epsilon = force.getExceptionParameters(i)\n",
    "            force.setExceptionParameters(i, p1, p2, 0, 0, 0)\n",
    "    else:\n",
    "        force.setForceGroup(2)"
   ]
  },
  {
   "cell_type": "code",
   "execution_count": 4,
   "id": "eaa14912-0724-4be8-8059-bb94fc940614",
   "metadata": {},
   "outputs": [
    {
     "name": "stdout",
     "output_type": "stream",
     "text": [
      "Coulomb interaction energy: -5638.628673112849 kJ/mol\n",
      "LJ interaction energy: 220.6627468027218 kJ/mol\n"
     ]
    }
   ],
   "source": [
    "integrator = VerletIntegrator(0.001*picosecond)\n",
    "context = Context(system, integrator)\n",
    "context.setPositions(pdb.positions)\n",
    "\n",
    "def energy(solute_coulomb_scale, solute_lj_scale, solvent_coulomb_scale, solvent_lj_scale):\n",
    "    context.setParameter(\"solute_coulomb_scale\", solute_coulomb_scale)\n",
    "    context.setParameter(\"solute_lj_scale\", solute_lj_scale)\n",
    "    context.setParameter(\"solvent_coulomb_scale\", solvent_coulomb_scale)\n",
    "    context.setParameter(\"solvent_lj_scale\", solvent_lj_scale)\n",
    "    return context.getState(getEnergy=True, groups={0}).getPotentialEnergy()\n",
    "\n",
    "total_coulomb = energy(1, 0, 1, 0)\n",
    "solute_coulomb = energy(1, 0, 0, 0)\n",
    "solvent_coulomb = energy(0, 0, 1, 0)\n",
    "total_lj = energy(0, 1, 0, 1)\n",
    "solute_lj = energy(0, 1, 0, 0)\n",
    "solvent_lj = energy(0, 0, 0, 1)\n",
    "print('Coulomb interaction energy:', total_coulomb - solute_coulomb - solvent_coulomb)\n",
    "print('LJ interaction energy:', total_lj - solute_lj - solvent_lj)"
   ]
  },
  {
   "cell_type": "markdown",
   "id": "77e73328-b88a-4210-b863-2f1023940e01",
   "metadata": {},
   "source": [
    "#### Test with current data"
   ]
  },
  {
   "cell_type": "code",
   "execution_count": 5,
   "id": "fefba079-4c92-4a68-a4a3-bddee2b093fb",
   "metadata": {},
   "outputs": [],
   "source": [
    "del pdb, solvent, protein, forcefield, system, force, integrator, context"
   ]
  },
  {
   "cell_type": "code",
   "execution_count": 6,
   "id": "de0bba39-06e8-4921-b1a4-2ed4d7ec01d9",
   "metadata": {},
   "outputs": [
    {
     "data": {
      "application/vnd.jupyter.widget-view+json": {
       "model_id": "ac1cc39d3fd64b268d33890ebd80171e",
       "version_major": 2,
       "version_minor": 0
      },
      "text/plain": []
     },
     "metadata": {},
     "output_type": "display_data"
    }
   ],
   "source": [
    "from openff.toolkit import ForceField, Molecule, Topology\n",
    "from openmm import LangevinMiddleIntegrator, unit\n",
    "from openff.interchange import Interchange\n",
    "import mdtraj"
   ]
  },
  {
   "cell_type": "code",
   "execution_count": 7,
   "id": "df066a33-f07c-4378-984c-6221b0dfd7f5",
   "metadata": {},
   "outputs": [],
   "source": [
    "integrator = LangevinMiddleIntegrator(300, 1, 4)"
   ]
  },
  {
   "cell_type": "code",
   "execution_count": 8,
   "id": "63eeece1-9ad3-4ae3-b6e6-3beab4ad6c7c",
   "metadata": {},
   "outputs": [
    {
     "name": "stdout",
     "output_type": "stream",
     "text": [
      "Building ligand..\n"
     ]
    }
   ],
   "source": [
    "print(\"Building ligand..\")\n",
    "ligand = Molecule.from_file(\"final.sdf\", allow_undefined_stereo=True)"
   ]
  },
  {
   "cell_type": "code",
   "execution_count": 9,
   "id": "bce1d0bf-d7ee-4e15-82b4-bd2b2a326d6c",
   "metadata": {},
   "outputs": [],
   "source": [
    "ligand_intrcg = Interchange.from_smirnoff(force_field=ForceField(\"openff_unconstrained-2.0.0.offxml\"), topology=[ligand],)"
   ]
  },
  {
   "cell_type": "code",
   "execution_count": 10,
   "id": "358ce366-7bd6-4067-ba9e-cb9447fe6802",
   "metadata": {},
   "outputs": [
    {
     "name": "stdout",
     "output_type": "stream",
     "text": [
      "\n",
      "Building protein..\n"
     ]
    }
   ],
   "source": [
    "print(\"\\nBuilding protein..\")\n",
    "protein = Topology.from_pdb(\"final.pdb\") # apo protein + ions"
   ]
  },
  {
   "cell_type": "code",
   "execution_count": 11,
   "id": "eb392e93-1218-4ff3-b4e8-76dc58fc3b36",
   "metadata": {},
   "outputs": [],
   "source": [
    "protein_intrcg = Interchange.from_smirnoff(\n",
    "    force_field=ForceField(\"ff14sb_off_impropers_0.0.3.offxml\", \"openff_unconstrained-2.0.0.offxml\"),\n",
    "    topology=protein,\n",
    ")"
   ]
  },
  {
   "cell_type": "code",
   "execution_count": 12,
   "id": "51e19732-0c1f-4b6d-a363-9166ade42b5d",
   "metadata": {},
   "outputs": [
    {
     "name": "stdout",
     "output_type": "stream",
     "text": [
      "env: INTERCHANGE_EXPERIMENTAL=1\n"
     ]
    }
   ],
   "source": [
    "%env INTERCHANGE_EXPERIMENTAL=1"
   ]
  },
  {
   "cell_type": "code",
   "execution_count": 13,
   "id": "1363ca6f-a483-4abf-bcd3-e4bb533606c7",
   "metadata": {},
   "outputs": [
    {
     "name": "stdout",
     "output_type": "stream",
     "text": [
      "\n",
      "Building complex..\n"
     ]
    },
    {
     "name": "stderr",
     "output_type": "stream",
     "text": [
      "/lila/home/takabak/mambaforge/envs/espfit/lib/python3.11/site-packages/openff/interchange/_experimental.py:35: UserWarning: Interchange object combination is experimental and likely to produce strange results. Any workflow using this method is not guaranteed to be suitable for production. Use with extreme caution and thoroughly validate results!\n",
      "  return func(*args, **kwargs)\n"
     ]
    }
   ],
   "source": [
    "print(\"\\nBuilding complex..\")\n",
    "complex_intrcg = protein_intrcg + ligand_intrcg"
   ]
  },
  {
   "cell_type": "code",
   "execution_count": 14,
   "id": "50f9a491-87f0-4f54-b31b-32626c5f9597",
   "metadata": {},
   "outputs": [
    {
     "name": "stdout",
     "output_type": "stream",
     "text": [
      "Minimizing..\n"
     ]
    }
   ],
   "source": [
    "print(\"Minimizing..\")\n",
    "simulation = complex_intrcg.to_openmm_simulation(integrator)\n",
    "start_pot_energy = simulation.context.getState(getEnergy=True).getPotentialEnergy() / unit.kilocalories_per_mole\n",
    "simulation.minimizeEnergy(maxIterations=3)\n",
    "end_pot_energy = simulation.context.getState(getEnergy=True).getPotentialEnergy() / unit.kilocalories_per_mole"
   ]
  },
  {
   "cell_type": "code",
   "execution_count": 15,
   "id": "efe0353e-7ec7-4958-8431-1c9263082a05",
   "metadata": {},
   "outputs": [
    {
     "name": "stdout",
     "output_type": "stream",
     "text": [
      "1259.4 -> -3718.85\n"
     ]
    }
   ],
   "source": [
    "print(f\"{round(start_pot_energy, 2)} -> {round(end_pot_energy, 2)}\")"
   ]
  },
  {
   "cell_type": "code",
   "execution_count": 16,
   "id": "09c3220e-d7bc-4087-a7f8-c6664badc665",
   "metadata": {},
   "outputs": [],
   "source": [
    "forces = list(simulation.system.getForces())\n",
    "_force = forces[0]"
   ]
  },
  {
   "cell_type": "code",
   "execution_count": 17,
   "id": "1018f667-6770-409e-b0d9-7d31a2dcb33d",
   "metadata": {},
   "outputs": [
    {
     "name": "stdout",
     "output_type": "stream",
     "text": [
      "0\n",
      "0.9 nm\n"
     ]
    }
   ],
   "source": [
    "# https://github.com/openmm/openmm/blob/abadc8211158900209a0893876e69ba7fe65968c/olla/include/openmm/kernels.h#L581\n",
    "print(_force.getNonbondedMethod())  # NoCutoff\n",
    "print(_force.getCutoffDistance())"
   ]
  },
  {
   "cell_type": "markdown",
   "id": "c94c99b0-15bc-45d1-a864-3137a84ecfb5",
   "metadata": {},
   "source": [
    "#### (Vacuum) compute ele and vdw interactions"
   ]
  },
  {
   "cell_type": "code",
   "execution_count": 18,
   "id": "51f8c4f9-b561-4df2-97ca-3c04b3c15e0c",
   "metadata": {
    "scrolled": true
   },
   "outputs": [
    {
     "data": {
      "text/plain": [
       "{'ALA',\n",
       " 'ARG',\n",
       " 'ASN',\n",
       " 'ASP',\n",
       " 'CYS',\n",
       " 'GLN',\n",
       " 'GLU',\n",
       " 'GLY',\n",
       " 'HIS',\n",
       " 'ILE',\n",
       " 'LEU',\n",
       " 'LYS',\n",
       " 'MET',\n",
       " 'PHE',\n",
       " 'PRO',\n",
       " 'SER',\n",
       " 'THR',\n",
       " 'TRP',\n",
       " 'TYR',\n",
       " 'UNK',\n",
       " 'VAL'}"
      ]
     },
     "execution_count": 18,
     "metadata": {},
     "output_type": "execute_result"
    }
   ],
   "source": [
    "# check complex topology\n",
    "res = [ r.name for r in simulation.topology.residues() ]\n",
    "set(res)"
   ]
  },
  {
   "cell_type": "code",
   "execution_count": 19,
   "id": "ec26f4a8-28e8-43ea-bd44-a31dfaeaf0c1",
   "metadata": {},
   "outputs": [],
   "source": [
    "protein_atom_indices = set([a.index for a in simulation.topology.atoms() if a.residue.name not in ('UNK')])\n",
    "ligand_atom_indices = set([a.index for a in simulation.topology.atoms() if a.residue.name in ('UNK')])"
   ]
  },
  {
   "cell_type": "code",
   "execution_count": 20,
   "id": "c2a21bf3-b87d-4bdc-b5cb-b921d55e3e55",
   "metadata": {},
   "outputs": [
    {
     "data": {
      "text/plain": [
       "[<openmm.openmm.NonbondedForce; proxy of <Swig Object of type 'OpenMM::NonbondedForce *' at 0x7fb43c292af0> >,\n",
       " <openmm.openmm.PeriodicTorsionForce; proxy of <Swig Object of type 'OpenMM::PeriodicTorsionForce *' at 0x7fb43c291380> >,\n",
       " <openmm.openmm.HarmonicAngleForce; proxy of <Swig Object of type 'OpenMM::HarmonicAngleForce *' at 0x7fb43c293900> >,\n",
       " <openmm.openmm.HarmonicBondForce; proxy of <Swig Object of type 'OpenMM::HarmonicBondForce *' at 0x7fb43c291e60> >]"
      ]
     },
     "execution_count": 20,
     "metadata": {},
     "output_type": "execute_result"
    }
   ],
   "source": [
    "forces = list(simulation.system.getForces())\n",
    "forces"
   ]
  },
  {
   "cell_type": "code",
   "execution_count": 21,
   "id": "f2978f69-a863-4651-bb79-c7c99fd938e8",
   "metadata": {},
   "outputs": [],
   "source": [
    "import openmm\n",
    "\n",
    "for force in simulation.system.getForces():\n",
    "    if isinstance(force, openmm.openmm.NonbondedForce):\n",
    "        force.setForceGroup(0)\n",
    "        force.addGlobalParameter(\"solute_coulomb_scale\", 1)\n",
    "        force.addGlobalParameter(\"solute_lj_scale\", 1)\n",
    "        force.addGlobalParameter(\"solvent_coulomb_scale\", 1)\n",
    "        force.addGlobalParameter(\"solvent_lj_scale\", 1)\n",
    "        for i in range(force.getNumParticles()):\n",
    "            charge, sigma, epsilon = force.getParticleParameters(i)\n",
    "            force.setParticleParameters(i, 0, 0, 0)\n",
    "            if i in protein_atom_indices:\n",
    "                force.addParticleParameterOffset(\"solute_coulomb_scale\", i, charge, 0, 0)\n",
    "                force.addParticleParameterOffset(\"solute_lj_scale\", i, 0, sigma, epsilon)\n",
    "            else:\n",
    "                force.addParticleParameterOffset(\"solvent_coulomb_scale\", i, charge, 0, 0)\n",
    "                force.addParticleParameterOffset(\"solvent_lj_scale\", i, 0, sigma, epsilon)\n",
    "        for i in range(force.getNumExceptions()):\n",
    "            p1, p2, chargeProd, sigma, epsilon = force.getExceptionParameters(i)\n",
    "            force.setExceptionParameters(i, p1, p2, 0, 0, 0)\n",
    "    else:\n",
    "        force.setForceGroup(2)"
   ]
  },
  {
   "cell_type": "raw",
   "id": "04c8e980-9db0-46bf-af1f-76600de7d539",
   "metadata": {},
   "source": [
    "def energy(solute_coulomb_scale, solute_lj_scale, solvent_coulomb_scale, solvent_lj_scale):\n",
    "    simulation.context.setParameter(\"solute_coulomb_scale\", solute_coulomb_scale)\n",
    "    simulation.context.setParameter(\"solute_lj_scale\", solute_lj_scale)\n",
    "    simulation.context.setParameter(\"solvent_coulomb_scale\", solvent_coulomb_scale)\n",
    "    simulation.context.setParameter(\"solvent_lj_scale\", solvent_lj_scale)\n",
    "    return simulation.context.getState(getEnergy=True, groups={0}).getPotentialEnergy() / unit.kilocalories_per_mole\n",
    "\n",
    "total_coulomb = energy(1, 0, 1, 0)\n",
    "solute_coulomb = energy(1, 0, 0, 0)\n",
    "solvent_coulomb = energy(0, 0, 1, 0)\n",
    "total_lj = energy(0, 1, 0, 1)\n",
    "solute_lj = energy(0, 1, 0, 0)\n",
    "solvent_lj = energy(0, 0, 0, 1)\n",
    "print('Coulomb interaction energy:', total_coulomb - solute_coulomb - solvent_coulomb)\n",
    "print('LJ interaction energy:', total_lj - solute_lj - solvent_lj)"
   ]
  },
  {
   "cell_type": "code",
   "execution_count": 22,
   "id": "2245b6db-ac7e-464c-bc9a-1c5f9e436f60",
   "metadata": {},
   "outputs": [],
   "source": [
    "# don't know why but regenerating the context seems to work\n",
    "import copy\n",
    "integrator_copy = copy.deepcopy(integrator)\n",
    "context = Context(simulation.system, integrator_copy)\n",
    "context.setPositions(simulation.context.getState(getPositions=True).getPositions())"
   ]
  },
  {
   "cell_type": "code",
   "execution_count": 23,
   "id": "0c2ffd3e-a24e-4e9d-a8fe-ce5fb4971765",
   "metadata": {},
   "outputs": [
    {
     "data": {
      "text/plain": [
       "-30550.49322119234"
      ]
     },
     "execution_count": 23,
     "metadata": {},
     "output_type": "execute_result"
    }
   ],
   "source": [
    "# this should be equal to \n",
    "# end_pot_energy = simulation.context.getState(getEnergy=True).getPotentialEnergy() / unit.kilocalories_per_mole\n",
    "context.getState(getEnergy=True).getPotentialEnergy() / unit.kilocalories_per_mole"
   ]
  },
  {
   "cell_type": "code",
   "execution_count": 24,
   "id": "0fc4ff7b-3ae1-4372-b99b-0e777ab0b2de",
   "metadata": {},
   "outputs": [
    {
     "data": {
      "text/plain": [
       "-3718.851883661991"
      ]
     },
     "execution_count": 24,
     "metadata": {},
     "output_type": "execute_result"
    }
   ],
   "source": [
    "end_pot_energy"
   ]
  },
  {
   "cell_type": "code",
   "execution_count": 25,
   "id": "95ac0133-6e6a-410d-a2bf-72433d4aa68b",
   "metadata": {},
   "outputs": [
    {
     "name": "stdout",
     "output_type": "stream",
     "text": [
      "Coulomb interaction energy: -32.96294492818568\n",
      "LJ interaction energy: -46.128519253344265\n"
     ]
    }
   ],
   "source": [
    "def energy(solute_coulomb_scale, solute_lj_scale, solvent_coulomb_scale, solvent_lj_scale):\n",
    "    context.setParameter(\"solute_coulomb_scale\", solute_coulomb_scale)\n",
    "    context.setParameter(\"solute_lj_scale\", solute_lj_scale)\n",
    "    context.setParameter(\"solvent_coulomb_scale\", solvent_coulomb_scale)\n",
    "    context.setParameter(\"solvent_lj_scale\", solvent_lj_scale)\n",
    "    return context.getState(getEnergy=True, groups={0}).getPotentialEnergy() / unit.kilocalories_per_mole\n",
    "\n",
    "total_coulomb = energy(1, 0, 1, 0)\n",
    "solute_coulomb = energy(1, 0, 0, 0)\n",
    "solvent_coulomb = energy(0, 0, 1, 0)\n",
    "total_lj = energy(0, 1, 0, 1)\n",
    "solute_lj = energy(0, 1, 0, 0)\n",
    "solvent_lj = energy(0, 0, 0, 1)\n",
    "print('Coulomb interaction energy:', total_coulomb - solute_coulomb - solvent_coulomb)\n",
    "print('LJ interaction energy:', total_lj - solute_lj - solvent_lj)"
   ]
  },
  {
   "cell_type": "code",
   "execution_count": 26,
   "id": "d9c08b1e-058c-49d9-8c5f-59c4a2a22ba6",
   "metadata": {},
   "outputs": [
    {
     "data": {
      "text/plain": [
       "17932.92426432705"
      ]
     },
     "execution_count": 26,
     "metadata": {},
     "output_type": "execute_result"
    }
   ],
   "source": [
    "# check nothing changed\n",
    "context.getState(getEnergy=True).getPotentialEnergy() / unit.kilocalories_per_mole"
   ]
  },
  {
   "cell_type": "markdown",
   "id": "8b742f5a-8f6a-4feb-923d-f5e4107b1d38",
   "metadata": {},
   "source": [
    "#### (GBSA?) compute ele and vdw interactions\n",
    "\n",
    "https://github.com/openforcefield/openff-interchange/blob/e3ad1bf9be646a8074c59b206086b04c84e7bb88/openff/interchange/_tests/interoperability_tests/test_openmm.py#L1170"
   ]
  },
  {
   "cell_type": "code",
   "execution_count": 27,
   "id": "389cb143-be0d-4036-aeda-c9fd03ef4ef8",
   "metadata": {},
   "outputs": [],
   "source": [
    "system_gbsa = Interchange.from_smirnoff(\n",
    "    force_field=ForceField(\"ff14sb_off_impropers_0.0.3.offxml\", \"openff_unconstrained-2.0.0.offxml\", \n",
    "                           \"/home/takabak/mambaforge/envs/espfit/lib/python3.11/site-packages/openff/interchange/_tests/data/gbsa.offxml\"),\n",
    "    topology=complex_intrcg.topology,\n",
    ")"
   ]
  },
  {
   "cell_type": "code",
   "execution_count": 28,
   "id": "c7451f1d-3b7f-4da2-acbb-306b579f8c38",
   "metadata": {},
   "outputs": [],
   "source": [
    "system_gbsa = system_gbsa.to_openmm()"
   ]
  },
  {
   "cell_type": "code",
   "execution_count": 29,
   "id": "538f8fd0-80b0-4a89-a19b-9b024d250bb8",
   "metadata": {},
   "outputs": [
    {
     "data": {
      "text/plain": [
       "[<openmm.openmm.NonbondedForce; proxy of <Swig Object of type 'OpenMM::NonbondedForce *' at 0x7fb3b73dced0> >,\n",
       " <openmm.openmm.PeriodicTorsionForce; proxy of <Swig Object of type 'OpenMM::PeriodicTorsionForce *' at 0x7fb3b73dea30> >,\n",
       " <openmm.openmm.HarmonicAngleForce; proxy of <Swig Object of type 'OpenMM::HarmonicAngleForce *' at 0x7fb3b73dfea0> >,\n",
       " <openmm.openmm.HarmonicBondForce; proxy of <Swig Object of type 'OpenMM::HarmonicBondForce *' at 0x7fb3b73dd6e0> >,\n",
       " <openmm.openmm.CustomGBForce; proxy of <Swig Object of type 'OpenMM::CustomGBForce *' at 0x7fb3b73dd050> >]"
      ]
     },
     "execution_count": 29,
     "metadata": {},
     "output_type": "execute_result"
    }
   ],
   "source": [
    "forces = list(system_gbsa.getForces())\n",
    "forces"
   ]
  },
  {
   "cell_type": "code",
   "execution_count": 30,
   "id": "dee81096-056d-49ae-94a5-393acdf52939",
   "metadata": {},
   "outputs": [
    {
     "data": {
      "text/plain": [
       "0"
      ]
     },
     "execution_count": 30,
     "metadata": {},
     "output_type": "execute_result"
    }
   ],
   "source": [
    "forces[0].getNonbondedMethod()"
   ]
  },
  {
   "cell_type": "code",
   "execution_count": 35,
   "id": "5711355c-b3f6-4d33-9f5d-da6e7167ef27",
   "metadata": {},
   "outputs": [],
   "source": [
    "import copy\n",
    "integrator_copy2 = copy.deepcopy(integrator)\n",
    "context_gbsa = Context(system_gbsa, integrator_copy2)\n",
    "context_gbsa.setPositions(simulation.context.getState(getPositions=True).getPositions())"
   ]
  },
  {
   "cell_type": "code",
   "execution_count": 36,
   "id": "5614db4b-3cd4-4c00-8eb3-35d690c30fe3",
   "metadata": {},
   "outputs": [
    {
     "data": {
      "text/plain": [
       "-32845.16499191843"
      ]
     },
     "execution_count": 36,
     "metadata": {},
     "output_type": "execute_result"
    }
   ],
   "source": [
    "context_gbsa.getState(getEnergy=True).getPotentialEnergy() / unit.kilocalories_per_mole"
   ]
  },
  {
   "cell_type": "code",
   "execution_count": 37,
   "id": "a03d388a-c323-4719-9e69-eebbff0d47af",
   "metadata": {},
   "outputs": [],
   "source": [
    "for force in system_gbsa.getForces():\n",
    "    if isinstance(force, openmm.openmm.NonbondedForce):\n",
    "        force.setForceGroup(0)\n",
    "        force.addGlobalParameter(\"solute_coulomb_scale\", 1)\n",
    "        force.addGlobalParameter(\"solute_lj_scale\", 1)\n",
    "        force.addGlobalParameter(\"solvent_coulomb_scale\", 1)\n",
    "        force.addGlobalParameter(\"solvent_lj_scale\", 1)\n",
    "        for i in range(force.getNumParticles()):\n",
    "            charge, sigma, epsilon = force.getParticleParameters(i)\n",
    "            force.setParticleParameters(i, 0, 0, 0)\n",
    "            if i in protein_atom_indices:\n",
    "                force.addParticleParameterOffset(\"solute_coulomb_scale\", i, charge, 0, 0)\n",
    "                force.addParticleParameterOffset(\"solute_lj_scale\", i, 0, sigma, epsilon)\n",
    "            else:\n",
    "                force.addParticleParameterOffset(\"solvent_coulomb_scale\", i, charge, 0, 0)\n",
    "                force.addParticleParameterOffset(\"solvent_lj_scale\", i, 0, sigma, epsilon)\n",
    "        for i in range(force.getNumExceptions()):\n",
    "            p1, p2, chargeProd, sigma, epsilon = force.getExceptionParameters(i)\n",
    "            force.setExceptionParameters(i, p1, p2, 0, 0, 0)\n",
    "    else:\n",
    "        force.setForceGroup(2)"
   ]
  },
  {
   "cell_type": "code",
   "execution_count": 38,
   "id": "a6f0cdc0-80a1-4238-9f00-38e3d7ea2a32",
   "metadata": {},
   "outputs": [
    {
     "name": "stdout",
     "output_type": "stream",
     "text": [
      "Coulomb interaction energy: -32.96294492818568\n",
      "LJ interaction energy: -46.128519253344265\n"
     ]
    }
   ],
   "source": [
    "def energy_gbsa(solute_coulomb_scale, solute_lj_scale, solvent_coulomb_scale, solvent_lj_scale):\n",
    "    context_gbsa.setParameter(\"solute_coulomb_scale\", solute_coulomb_scale)\n",
    "    context_gbsa.setParameter(\"solute_lj_scale\", solute_lj_scale)\n",
    "    context_gbsa.setParameter(\"solvent_coulomb_scale\", solvent_coulomb_scale)\n",
    "    context_gbsa.setParameter(\"solvent_lj_scale\", solvent_lj_scale)\n",
    "    return context_gbsa.getState(getEnergy=True, groups={0}).getPotentialEnergy() / unit.kilocalories_per_mole\n",
    "\n",
    "total_coulomb = energy_gbsa(1, 0, 1, 0)\n",
    "solute_coulomb = energy_gbsa(1, 0, 0, 0)\n",
    "solvent_coulomb = energy_gbsa(0, 0, 1, 0)\n",
    "total_lj = energy_gbsa(0, 1, 0, 1)\n",
    "solute_lj = energy_gbsa(0, 1, 0, 0)\n",
    "solvent_lj = energy_gbsa(0, 0, 0, 1)\n",
    "print('Coulomb interaction energy:', total_coulomb - solute_coulomb - solvent_coulomb)\n",
    "print('LJ interaction energy:', total_lj - solute_lj - solvent_lj)"
   ]
  },
  {
   "cell_type": "code",
   "execution_count": 39,
   "id": "8ac7754e-722f-4f6b-8c72-32cb924d477a",
   "metadata": {},
   "outputs": [
    {
     "data": {
      "text/plain": [
       "15638.252493600969"
      ]
     },
     "execution_count": 39,
     "metadata": {},
     "output_type": "execute_result"
    }
   ],
   "source": [
    "context_gbsa.getState(getEnergy=True).getPotentialEnergy() / unit.kilocalories_per_mole"
   ]
  },
  {
   "cell_type": "code",
   "execution_count": 40,
   "id": "feac14a1-b176-46ae-82f5-2ab026509ce2",
   "metadata": {},
   "outputs": [],
   "source": [
    "# I need to get the SA energy? -> is this sum of polar and non-polar contributions or just the non-polar contribution?\n",
    "# http://docs.openmm.org/7.1.0/api-python/generated/simtk.openmm.openmm.GBSAOBCForce.html"
   ]
  },
  {
   "cell_type": "code",
   "execution_count": null,
   "id": "2adac284-a841-4b09-83d6-cf257052702f",
   "metadata": {},
   "outputs": [],
   "source": []
  }
 ],
 "metadata": {
  "kernelspec": {
   "display_name": "Python 3 (ipykernel)",
   "language": "python",
   "name": "python3"
  },
  "language_info": {
   "codemirror_mode": {
    "name": "ipython",
    "version": 3
   },
   "file_extension": ".py",
   "mimetype": "text/x-python",
   "name": "python",
   "nbconvert_exporter": "python",
   "pygments_lexer": "ipython3",
   "version": "3.11.6"
  }
 },
 "nbformat": 4,
 "nbformat_minor": 5
}
