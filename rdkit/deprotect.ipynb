{
 "cells": [
  {
   "cell_type": "code",
   "execution_count": 1,
   "id": "0d64d98c",
   "metadata": {},
   "outputs": [],
   "source": [
    "from rdkit import Chem\n",
    "from rdkit.Chem import Draw\n",
    "from rdkit.Chem import AllChem\n",
    "from rdkit.Chem.rdDeprotect import DeprotectData, GetDeprotections"
   ]
  },
  {
   "cell_type": "code",
   "execution_count": 2,
   "id": "a32e871b",
   "metadata": {},
   "outputs": [
    {
     "data": {
      "text/plain": [
       "\u001b[0;31mDocstring:\u001b[0m\n",
       "GetDeprotections() -> DeprotectDataVect :\n",
       "    Return the default list of deprotections\n",
       "\n",
       "    C++ signature :\n",
       "        std::__1::vector<RDKit::Deprotect::DeprotectData, std::__1::allocator<RDKit::Deprotect::DeprotectData> > GetDeprotections()\n",
       "\u001b[0;31mType:\u001b[0m      function\n"
      ]
     },
     "metadata": {},
     "output_type": "display_data"
    }
   ],
   "source": [
    "GetDeprotections?"
   ]
  },
  {
   "cell_type": "code",
   "execution_count": 20,
   "id": "aa8264b9",
   "metadata": {},
   "outputs": [
    {
     "data": {
      "text/plain": [
       "[<rdkit.Chem.rdDeprotect.DeprotectData at 0x128d394e0>,\n",
       " <rdkit.Chem.rdDeprotect.DeprotectData at 0x128d3b1c0>,\n",
       " <rdkit.Chem.rdDeprotect.DeprotectData at 0x128d3b280>,\n",
       " <rdkit.Chem.rdDeprotect.DeprotectData at 0x128d3b4c0>,\n",
       " <rdkit.Chem.rdDeprotect.DeprotectData at 0x128d3b400>,\n",
       " <rdkit.Chem.rdDeprotect.DeprotectData at 0x128d39de0>,\n",
       " <rdkit.Chem.rdDeprotect.DeprotectData at 0x128d3b580>,\n",
       " <rdkit.Chem.rdDeprotect.DeprotectData at 0x128d3b5e0>,\n",
       " <rdkit.Chem.rdDeprotect.DeprotectData at 0x128d3b640>,\n",
       " <rdkit.Chem.rdDeprotect.DeprotectData at 0x128d3b6a0>,\n",
       " <rdkit.Chem.rdDeprotect.DeprotectData at 0x128d3b760>,\n",
       " <rdkit.Chem.rdDeprotect.DeprotectData at 0x128d3b7c0>,\n",
       " <rdkit.Chem.rdDeprotect.DeprotectData at 0x128d3b820>,\n",
       " <rdkit.Chem.rdDeprotect.DeprotectData at 0x128d3b880>,\n",
       " <rdkit.Chem.rdDeprotect.DeprotectData at 0x128d3b8e0>,\n",
       " <rdkit.Chem.rdDeprotect.DeprotectData at 0x128d3b940>,\n",
       " <rdkit.Chem.rdDeprotect.DeprotectData at 0x128d3b9a0>,\n",
       " <rdkit.Chem.rdDeprotect.DeprotectData at 0x128d3ba00>,\n",
       " <rdkit.Chem.rdDeprotect.DeprotectData at 0x128d3ba60>,\n",
       " <rdkit.Chem.rdDeprotect.DeprotectData at 0x128d3bac0>,\n",
       " <rdkit.Chem.rdDeprotect.DeprotectData at 0x128d3bb20>,\n",
       " <rdkit.Chem.rdDeprotect.DeprotectData at 0x128d3bb80>,\n",
       " <rdkit.Chem.rdDeprotect.DeprotectData at 0x128d3bbe0>,\n",
       " <rdkit.Chem.rdDeprotect.DeprotectData at 0x128d3bc40>,\n",
       " <rdkit.Chem.rdDeprotect.DeprotectData at 0x128d3bca0>]"
      ]
     },
     "execution_count": 20,
     "metadata": {},
     "output_type": "execute_result"
    }
   ],
   "source": [
    "rxn = [ x for x in GetDeprotections() ]\n",
    "rxn"
   ]
  },
  {
   "cell_type": "code",
   "execution_count": 21,
   "id": "4cbb15d2",
   "metadata": {},
   "outputs": [
    {
     "name": "stdout",
     "output_type": "stream",
     "text": [
      "tert-butyldimethylsilyl alcohol\n",
      "methoxytrityl alcohol\n",
      "tetrahydropyranyl alcohol\n",
      "methoxymethyl_ether alcohol\n",
      "beta-Methoxyethoxymethyl_ether alcohol\n",
      "benzyl alcohol\n",
      "trimethylsilyl alcohol\n",
      "benzoyl alcohol\n",
      "pivaloyl alcohol\n",
      "triisopropylsilyl alcohol\n",
      "acetyl alcohol\n",
      "para-methoxybenzyl_ether alcohol\n",
      "triphenylmethyl alcohol\n",
      "phthaloyl amine\n",
      "trimethylsilylethoxymethyl amine\n",
      "para-methoxyphenyl amine\n",
      "tosyl amine\n",
      "tert-butyloxycarbonyl amine\n",
      "trifluoroacetyl amine\n",
      "benzoyl amine\n",
      "9-fluorenylmethyloxycarbonyl amine\n",
      "benzylamine amine\n",
      "acetamide amine\n",
      "carbobenzyloxy amine\n",
      "Acetal/Ketal carbonyl\n"
     ]
    }
   ],
   "source": [
    "for _rxn in rxn:\n",
    "    print(_rxn.full_name, _rxn.deprotection_class)"
   ]
  },
  {
   "cell_type": "code",
   "execution_count": 22,
   "id": "f394393c",
   "metadata": {},
   "outputs": [
    {
     "data": {
      "text/plain": [
       "\u001b[0;31mType:\u001b[0m           DeprotectData\n",
       "\u001b[0;31mString form:\u001b[0m    <rdkit.Chem.rdDeprotect.DeprotectData object at 0x128d3bca0>\n",
       "\u001b[0;31mFile:\u001b[0m           ~/mambaforge/envs/myenv/lib/python3.10/site-packages/rdkit/Chem/rdDeprotect.so\n",
       "\u001b[0;31mDocstring:\u001b[0m     \n",
       "DeprotectData class, contains a single deprotection reaction and information\n",
       "\n",
       "deprotectdata.deprotection_class - functional group being protected\n",
       "deprotectdata.reaction_smarts - reaction smarts used for deprotection\n",
       "deprotectdata.abbreviation - common abbreviation for the protecting group\n",
       "deprotectdata.full_name - full name for the protecting group\n",
       "\u001b[0;31mInit docstring:\u001b[0m\n",
       "__init__( (object)arg1, (str)deprotection_class, (str)reaction_smarts, (str)abbreviation, (str)full_name) -> None :\n",
       "    Construct a new DeprotectData instance.\n",
       "      >>> reaction_class = \"amine\"\n",
       "      >>> reaction_smarts = \"[C;R0][C;R0]([C;R0])([O;R0][C;R0](=[O;R0])[NX3;H0,H1:1])C>>[N:1]\"\n",
       "      >>> abbreviation = \"Boc\"\n",
       "      >>> full_name = \"tert-butyloxycarbonyl\"\n",
       "      >>> data = DeprotectData(reaction_class, reaction_smarts, abbreviation, full_name)\n",
       "      >>> assert data.isValid()\n",
       "    \n",
       "    \n",
       "\n",
       "    C++ signature :\n",
       "        void __init__(_object*,std::__1::basic_string<char, std::__1::char_traits<char>, std::__1::allocator<char> >,std::__1::basic_string<char, std::__1::char_traits<char>, std::__1::allocator<char> >,std::__1::basic_string<char, std::__1::char_traits<char>, std::__1::allocator<char> >,std::__1::basic_string<char, std::__1::char_traits<char>, std::__1::allocator<char> >)\n"
      ]
     },
     "metadata": {},
     "output_type": "display_data"
    }
   ],
   "source": [
    "_rxn?"
   ]
  },
  {
   "cell_type": "code",
   "execution_count": 23,
   "id": "03c314c2",
   "metadata": {},
   "outputs": [
    {
     "data": {
      "text/plain": [
       "'CC(C)(C)[Si](C)(C)OC>>OC'"
      ]
     },
     "execution_count": 23,
     "metadata": {},
     "output_type": "execute_result"
    }
   ],
   "source": [
    "rxn[0].example"
   ]
  },
  {
   "cell_type": "code",
   "execution_count": 24,
   "id": "88d771dd",
   "metadata": {},
   "outputs": [
    {
     "data": {
      "text/plain": [
       "'CC(C)([Si](C)(C)[O;H0:1])C>>[O;H1:1]'"
      ]
     },
     "execution_count": 24,
     "metadata": {},
     "output_type": "execute_result"
    }
   ],
   "source": [
    "rxn[0].reaction_smarts"
   ]
  },
  {
   "cell_type": "code",
   "execution_count": 25,
   "id": "00f85782",
   "metadata": {},
   "outputs": [
    {
     "data": {
      "text/plain": [
       "'alcohol'"
      ]
     },
     "execution_count": 25,
     "metadata": {},
     "output_type": "execute_result"
    }
   ],
   "source": [
    "rxn[0].deprotection_class"
   ]
  },
  {
   "cell_type": "code",
   "execution_count": 26,
   "id": "4f7474ea",
   "metadata": {},
   "outputs": [
    {
     "data": {
      "image/png": "[encoded data removed]",
      "text/plain": [
       "<rdkit.Chem.rdChemReactions.ChemicalReaction at 0x128d3af20>"
      ]
     },
     "execution_count": 26,
     "metadata": {},
     "output_type": "execute_result"
    }
   ],
   "source": [
    "reaction_smarts = rxn[0].reaction_smarts\n",
    "AllChem.ReactionFromSmarts(reaction_smarts)"
   ]
  },
  {
   "cell_type": "code",
   "execution_count": 27,
   "id": "5816d901",
   "metadata": {},
   "outputs": [],
   "source": [
    "reaction_class = \"dummy\"\n",
    "reaction_smarts = \"[C;R0][C;R0]([C;R0])([O;R0][C;R0](=[O;R0])[NX3;H0,H1:1])C>>[N:1]\"\n",
    "abbreviation = \"Dummy\"\n",
    "full_name = \"this-is-just-dummy\"\n",
    "data = DeprotectData(reaction_class, reaction_smarts, abbreviation, full_name)"
   ]
  },
  {
   "cell_type": "code",
   "execution_count": 30,
   "id": "660a9648",
   "metadata": {},
   "outputs": [
    {
     "data": {
      "text/plain": [
       "<rdkit.Chem.rdDeprotect.DeprotectData at 0x128d90ef0>"
      ]
     },
     "execution_count": 30,
     "metadata": {},
     "output_type": "execute_result"
    }
   ],
   "source": [
    "data"
   ]
  },
  {
   "cell_type": "code",
   "execution_count": 33,
   "id": "93f48ae0",
   "metadata": {},
   "outputs": [],
   "source": [
    "rxn.append(data)"
   ]
  },
  {
   "cell_type": "code",
   "execution_count": 34,
   "id": "e824f21a",
   "metadata": {},
   "outputs": [
    {
     "name": "stdout",
     "output_type": "stream",
     "text": [
      "tert-butyldimethylsilyl alcohol\n",
      "methoxytrityl alcohol\n",
      "tetrahydropyranyl alcohol\n",
      "methoxymethyl_ether alcohol\n",
      "beta-Methoxyethoxymethyl_ether alcohol\n",
      "benzyl alcohol\n",
      "trimethylsilyl alcohol\n",
      "benzoyl alcohol\n",
      "pivaloyl alcohol\n",
      "triisopropylsilyl alcohol\n",
      "acetyl alcohol\n",
      "para-methoxybenzyl_ether alcohol\n",
      "triphenylmethyl alcohol\n",
      "phthaloyl amine\n",
      "trimethylsilylethoxymethyl amine\n",
      "para-methoxyphenyl amine\n",
      "tosyl amine\n",
      "tert-butyloxycarbonyl amine\n",
      "trifluoroacetyl amine\n",
      "benzoyl amine\n",
      "9-fluorenylmethyloxycarbonyl amine\n",
      "benzylamine amine\n",
      "acetamide amine\n",
      "carbobenzyloxy amine\n",
      "Acetal/Ketal carbonyl\n",
      "this-is-just-dummy dummy\n"
     ]
    }
   ],
   "source": [
    "for _rxn in rxn:\n",
    "    print(_rxn.full_name, _rxn.deprotection_class)"
   ]
  },
  {
   "cell_type": "code",
   "execution_count": null,
   "id": "68281a0a",
   "metadata": {},
   "outputs": [],
   "source": []
  }
 ],
 "metadata": {
  "kernelspec": {
   "display_name": "Python 3 (ipykernel)",
   "language": "python",
   "name": "python3"
  },
  "language_info": {
   "codemirror_mode": {
    "name": "ipython",
    "version": 3
   },
   "file_extension": ".py",
   "mimetype": "text/x-python",
   "name": "python",
   "nbconvert_exporter": "python",
   "pygments_lexer": "ipython3",
   "version": "3.10.5"
  }
 },
 "nbformat": 4,
 "nbformat_minor": 5
}
