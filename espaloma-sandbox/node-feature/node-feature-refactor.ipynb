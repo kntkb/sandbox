{
 "cells": [
  {
   "cell_type": "code",
   "execution_count": 1,
   "id": "a2b3909e-b532-4462-8126-6283ecf2d5c0",
   "metadata": {},
   "outputs": [],
   "source": [
    "import espaloma as esp\n",
    "from dgllife.utils.featurizers import (\n",
    "    BaseAtomFeaturizer,\n",
    "    ConcatFeaturizer,\n",
    "    atom_type_one_hot,\n",
    "    atom_degree_one_hot,\n",
    "    atom_hybridization_one_hot,\n",
    "    atom_is_aromatic,\n",
    "    atom_is_in_ring_one_hot,\n",
    ")"
   ]
  },
  {
   "cell_type": "code",
   "execution_count": 2,
   "id": "eff3c282-7c1e-4a22-8b56-a1bbdb612799",
   "metadata": {},
   "outputs": [],
   "source": [
    "from rdkit.Chem.Draw import IPythonConsole\n",
    "IPythonConsole.drawOptions.addAtomIndices = True"
   ]
  },
  {
   "cell_type": "code",
   "execution_count": 3,
   "id": "11f1ab79-d7b9-40a1-be4c-2443abbcdcce",
   "metadata": {},
   "outputs": [],
   "source": [
    "class AtomFeaturizer(BaseAtomFeaturizer):\n",
    "    def __init__(self, atom_data_field='h'):\n",
    "        super().__init__(\n",
    "            featurizer_funcs={atom_data_field: ConcatFeaturizer(\n",
    "                [atom_type_one_hot,\n",
    "                 atom_degree_one_hot,\n",
    "                 atom_is_aromatic,\n",
    "                 atom_is_in_ringsize_one_hot,\n",
    "                 atom_hybridization_one_hot,\n",
    "                ]\n",
    "            )})\n",
    "\n",
    "\n",
    "        \n",
    "def atom_is_in_ringsize_one_hot(atom):\n",
    "    \"\"\"One hot encoding ring size.\n",
    "    \"\"\"\n",
    "    return atom.IsInRingSize(3), atom.IsInRingSize(4), atom.IsInRingSize(5), atom.IsInRingSize(6), atom.IsInRingSize(7), atom.IsInRingSize(8)\n",
    "\n",
    "\n",
    "\n",
    "def from_openff_toolkit_mol(mol, use_fp=True):\n",
    "    import dgl\n",
    "    import torch\n",
    "    from openmm import unit\n",
    "    from dgllife.utils import mol_to_bigraph\n",
    "    \n",
    "    total_charge = mol.total_charge.value_in_unit(unit.elementary_charge)\n",
    "    \n",
    "    # convert openff molecule to rdkit\n",
    "    rdmol = mol.to_rdkit()\n",
    "    \n",
    "    # canonical_atom_order=True might change the order of atoms in the graph constructed.\n",
    "    g = mol_to_bigraph(rdmol, add_self_loop=False, node_featurizer=AtomFeaturizer(\"h0\"), canonical_atom_order=False)\n",
    "    \n",
    "    g.ndata[\"type\"] = torch.Tensor(\n",
    "        [[atom.GetAtomicNum()] for atom in rdmol.GetAtoms()]\n",
    "    )\n",
    "    g.ndata[\"formal_charge\"] = torch.Tensor(\n",
    "        [[atom.GetFormalCharge()] for atom in rdmol.GetAtoms()]\n",
    "    )\n",
    "\n",
    "    g.ndata[\"sum_q\"] = torch.Tensor(\n",
    "        [[total_charge] for _ in range(rdmol.GetNumAtoms())]\n",
    "    )\n",
    "    \n",
    "    return g"
   ]
  },
  {
   "cell_type": "code",
   "execution_count": 4,
   "id": "6cda8fe2-c14b-471a-9415-f8199a200757",
   "metadata": {},
   "outputs": [],
   "source": [
    "_g = esp.Graph.load(\"../../../exploring-rna/rna-espaloma/espaloma-openff-default.3/02-train-force/merge-data/openff-2.0.0_filtered/gen2/0\")\n",
    "mol = _g.mol   # openff molecule"
   ]
  },
  {
   "cell_type": "code",
   "execution_count": 5,
   "id": "440a3623-b27a-4298-bda4-e2ed9f0f313e",
   "metadata": {},
   "outputs": [],
   "source": [
    "g = from_openff_toolkit_mol(mol)"
   ]
  },
  {
   "cell_type": "code",
   "execution_count": 6,
   "id": "19c048a9-5d7f-40b5-ae24-a56132749342",
   "metadata": {},
   "outputs": [
    {
     "data": {
      "text/plain": [
       "Graph(num_nodes=37, num_edges=78,\n",
       "      ndata_schemes={'h0': Scheme(shape=(66,), dtype=torch.float32), 'type': Scheme(shape=(1,), dtype=torch.float32), 'formal_charge': Scheme(shape=(1,), dtype=torch.float32), 'sum_q': Scheme(shape=(1,), dtype=torch.float32)}\n",
       "      edata_schemes={})"
      ]
     },
     "execution_count": 6,
     "metadata": {},
     "output_type": "execute_result"
    }
   ],
   "source": [
    "g"
   ]
  },
  {
   "cell_type": "code",
   "execution_count": 7,
   "id": "5346ac32-6be1-4610-bc2d-f34b187bafc6",
   "metadata": {},
   "outputs": [
    {
     "data": {
      "text/plain": [
       "dict_keys(['h0', 'type', 'formal_charge', 'sum_q'])"
      ]
     },
     "execution_count": 7,
     "metadata": {},
     "output_type": "execute_result"
    }
   ],
   "source": [
    "g.ndata.keys()"
   ]
  },
  {
   "cell_type": "code",
   "execution_count": 8,
   "id": "fe684764-d6e3-4e88-95fc-9e62382b19ff",
   "metadata": {},
   "outputs": [
    {
     "data": {
      "text/plain": [
       "tensor([[1., 0., 0.,  ..., 0., 0., 0.],\n",
       "        [1., 0., 0.,  ..., 0., 0., 0.],\n",
       "        [1., 0., 0.,  ..., 0., 0., 0.],\n",
       "        ...,\n",
       "        [0., 0., 0.,  ..., 0., 0., 0.],\n",
       "        [0., 0., 0.,  ..., 0., 0., 0.],\n",
       "        [0., 0., 0.,  ..., 0., 0., 0.]])"
      ]
     },
     "execution_count": 8,
     "metadata": {},
     "output_type": "execute_result"
    }
   ],
   "source": [
    "g.ndata['h0']"
   ]
  },
  {
   "cell_type": "code",
   "execution_count": 9,
   "id": "55c6a768-4bb0-4042-8a18-bd8993f33118",
   "metadata": {},
   "outputs": [
    {
     "data": {
      "text/plain": [
       "tensor([1., 0., 0., 0., 0., 0., 0., 0., 0., 0., 0., 0., 0., 0., 0., 0., 0., 0.,\n",
       "        0., 0., 0., 0., 0., 0., 0., 0., 0., 0., 0., 0., 0., 0., 0., 0., 0., 0.,\n",
       "        0., 0., 0., 0., 0., 0., 0., 0., 0., 1., 0., 0., 0., 0., 0., 0., 0., 0.,\n",
       "        0., 0., 0., 0., 0., 0., 0., 1., 0., 0., 0., 0.])"
      ]
     },
     "execution_count": 9,
     "metadata": {},
     "output_type": "execute_result"
    }
   ],
   "source": [
    "g.ndata['h0'][0]"
   ]
  },
  {
   "cell_type": "code",
   "execution_count": 10,
   "id": "2b81ef3e-56e9-43d1-90df-ccb03e335af5",
   "metadata": {},
   "outputs": [
    {
     "data": {
      "text/plain": [
       "tensor([[6.],\n",
       "        [6.],\n",
       "        [6.],\n",
       "        [6.],\n",
       "        [6.],\n",
       "        [6.],\n",
       "        [6.],\n",
       "        [6.],\n",
       "        [6.],\n",
       "        [6.],\n",
       "        [6.],\n",
       "        [6.],\n",
       "        [6.],\n",
       "        [6.],\n",
       "        [6.],\n",
       "        [6.],\n",
       "        [6.],\n",
       "        [6.],\n",
       "        [7.],\n",
       "        [7.],\n",
       "        [8.],\n",
       "        [1.],\n",
       "        [1.],\n",
       "        [1.],\n",
       "        [1.],\n",
       "        [1.],\n",
       "        [1.],\n",
       "        [1.],\n",
       "        [1.],\n",
       "        [1.],\n",
       "        [1.],\n",
       "        [1.],\n",
       "        [1.],\n",
       "        [1.],\n",
       "        [1.],\n",
       "        [1.],\n",
       "        [1.]])"
      ]
     },
     "execution_count": 10,
     "metadata": {},
     "output_type": "execute_result"
    }
   ],
   "source": [
    "g.ndata['type']"
   ]
  },
  {
   "cell_type": "code",
   "execution_count": 11,
   "id": "0ec661d1-750b-4b26-98f8-29ff19f17fce",
   "metadata": {},
   "outputs": [
    {
     "data": {
      "text/plain": [
       "tensor([[0.],\n",
       "        [0.],\n",
       "        [0.],\n",
       "        [0.],\n",
       "        [0.],\n",
       "        [0.],\n",
       "        [0.],\n",
       "        [0.],\n",
       "        [0.],\n",
       "        [0.],\n",
       "        [0.],\n",
       "        [0.],\n",
       "        [0.],\n",
       "        [0.],\n",
       "        [0.],\n",
       "        [0.],\n",
       "        [0.],\n",
       "        [0.],\n",
       "        [0.],\n",
       "        [0.],\n",
       "        [0.],\n",
       "        [0.],\n",
       "        [0.],\n",
       "        [0.],\n",
       "        [0.],\n",
       "        [0.],\n",
       "        [0.],\n",
       "        [0.],\n",
       "        [0.],\n",
       "        [0.],\n",
       "        [0.],\n",
       "        [0.],\n",
       "        [0.],\n",
       "        [0.],\n",
       "        [0.],\n",
       "        [0.],\n",
       "        [0.]])"
      ]
     },
     "execution_count": 11,
     "metadata": {},
     "output_type": "execute_result"
    }
   ],
   "source": [
    "g.ndata['formal_charge']"
   ]
  },
  {
   "cell_type": "code",
   "execution_count": 12,
   "id": "86e20b52-7cdc-4825-8f04-d841e765b6d2",
   "metadata": {},
   "outputs": [
    {
     "data": {
      "text/plain": [
       "tensor([[0.],\n",
       "        [0.],\n",
       "        [0.],\n",
       "        [0.],\n",
       "        [0.],\n",
       "        [0.],\n",
       "        [0.],\n",
       "        [0.],\n",
       "        [0.],\n",
       "        [0.],\n",
       "        [0.],\n",
       "        [0.],\n",
       "        [0.],\n",
       "        [0.],\n",
       "        [0.],\n",
       "        [0.],\n",
       "        [0.],\n",
       "        [0.],\n",
       "        [0.],\n",
       "        [0.],\n",
       "        [0.],\n",
       "        [0.],\n",
       "        [0.],\n",
       "        [0.],\n",
       "        [0.],\n",
       "        [0.],\n",
       "        [0.],\n",
       "        [0.],\n",
       "        [0.],\n",
       "        [0.],\n",
       "        [0.],\n",
       "        [0.],\n",
       "        [0.],\n",
       "        [0.],\n",
       "        [0.],\n",
       "        [0.],\n",
       "        [0.]])"
      ]
     },
     "execution_count": 12,
     "metadata": {},
     "output_type": "execute_result"
    }
   ],
   "source": [
    "g.ndata['sum_q']"
   ]
  },
  {
   "cell_type": "code",
   "execution_count": 13,
   "id": "cd0e7238-7913-4e68-a294-2a5e85f247af",
   "metadata": {},
   "outputs": [
    {
     "data": {
      "text/plain": [
       "(tensor([ 0,  1,  0, 21,  1, 10,  2,  3,  2,  6,  2, 22,  3,  7,  3, 23,  4,  5,\n",
       "          4,  8,  4, 24,  5, 10,  5, 25,  6, 11,  6, 26,  7, 12,  7, 27,  8, 13,\n",
       "          8, 28,  9, 10,  9, 13,  9, 29, 11, 12, 11, 15, 12, 16, 13, 19, 14, 18,\n",
       "         14, 19, 14, 20, 15, 17, 15, 30, 15, 31, 16, 18, 16, 32, 16, 33, 17, 18,\n",
       "         17, 34, 17, 35, 19, 36], dtype=torch.int32),\n",
       " tensor([ 1,  0, 21,  0, 10,  1,  3,  2,  6,  2, 22,  2,  7,  3, 23,  3,  5,  4,\n",
       "          8,  4, 24,  4, 10,  5, 25,  5, 11,  6, 26,  6, 12,  7, 27,  7, 13,  8,\n",
       "         28,  8, 10,  9, 13,  9, 29,  9, 12, 11, 15, 11, 16, 12, 19, 13, 18, 14,\n",
       "         19, 14, 20, 14, 17, 15, 30, 15, 31, 15, 18, 16, 32, 16, 33, 16, 18, 17,\n",
       "         34, 17, 35, 17, 36, 19], dtype=torch.int32))"
      ]
     },
     "execution_count": 13,
     "metadata": {},
     "output_type": "execute_result"
    }
   ],
   "source": [
    "g.edges()"
   ]
  },
  {
   "cell_type": "code",
   "execution_count": 14,
   "id": "4e2f8876-a817-4c49-8539-9151ac9ec423",
   "metadata": {},
   "outputs": [
    {
     "name": "stderr",
     "output_type": "stream",
     "text": [
      "/lila/home/takabak/mambaforge/envs/espaloma/lib/python3.9/site-packages/dgl/heterograph.py:72: DGLWarning: Recommend creating graphs by `dgl.graph(data)` instead of `dgl.DGLGraph(data)`.\n",
      "  dgl_warning('Recommend creating graphs by `dgl.graph(data)`'\n"
     ]
    },
    {
     "data": {
      "text/plain": [
       "(tensor([ 0,  0,  1,  2,  2,  2,  3,  3,  4,  4,  4,  5,  5,  6,  6,  7,  7,  8,\n",
       "          8,  9,  9,  9, 11, 11, 12, 13, 14, 14, 14, 15, 15, 15, 16, 16, 16, 17,\n",
       "         17, 17, 19,  1, 21, 10,  3,  6, 22,  7, 23,  5,  8, 24, 10, 25, 11, 26,\n",
       "         12, 27, 13, 28, 10, 13, 29, 12, 15, 16, 19, 18, 19, 20, 17, 30, 31, 18,\n",
       "         32, 33, 18, 34, 35, 36]),\n",
       " tensor([ 1, 21, 10,  3,  6, 22,  7, 23,  5,  8, 24, 10, 25, 11, 26, 12, 27, 13,\n",
       "         28, 10, 13, 29, 12, 15, 16, 19, 18, 19, 20, 17, 30, 31, 18, 32, 33, 18,\n",
       "         34, 35, 36,  0,  0,  1,  2,  2,  2,  3,  3,  4,  4,  4,  5,  5,  6,  6,\n",
       "          7,  7,  8,  8,  9,  9,  9, 11, 11, 12, 13, 14, 14, 14, 15, 15, 15, 16,\n",
       "         16, 16, 17, 17, 17, 19]))"
      ]
     },
     "execution_count": 14,
     "metadata": {},
     "output_type": "execute_result"
    }
   ],
   "source": [
    "# create edges with openff molecules\n",
    "import dgl\n",
    "g_off = dgl.DGLGraph()\n",
    "bonds = list(mol.bonds)\n",
    "bonds_begin_idxs = [bond.atom1_index for bond in bonds]\n",
    "bonds_end_idxs = [bond.atom2_index for bond in bonds]\n",
    "bonds_types = [bond.bond_order for bond in bonds]\n",
    "\n",
    "g_off.add_edges(bonds_begin_idxs, bonds_end_idxs)\n",
    "g_off.add_edges(bonds_end_idxs, bonds_begin_idxs)\n",
    "\n",
    "g_off.edges() # does this have to be in the same order as edges created with rdkit molecule?"
   ]
  },
  {
   "cell_type": "code",
   "execution_count": null,
   "id": "41d2da0d-8a2a-47fa-bcc3-1dd2715b7a44",
   "metadata": {},
   "outputs": [],
   "source": []
  },
  {
   "cell_type": "code",
   "execution_count": null,
   "id": "75dfd37a-03ae-480d-b53a-308ba2b79816",
   "metadata": {},
   "outputs": [],
   "source": []
  }
 ],
 "metadata": {
  "kernelspec": {
   "display_name": "Python 3 (ipykernel)",
   "language": "python",
   "name": "python3"
  },
  "language_info": {
   "codemirror_mode": {
    "name": "ipython",
    "version": 3
   },
   "file_extension": ".py",
   "mimetype": "text/x-python",
   "name": "python",
   "nbconvert_exporter": "python",
   "pygments_lexer": "ipython3",
   "version": "3.9.13"
  }
 },
 "nbformat": 4,
 "nbformat_minor": 5
}
