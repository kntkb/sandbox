{
 "cells": [
  {
   "cell_type": "code",
   "execution_count": 1,
   "id": "e5651be2-0aec-41ff-9dff-519b5fa902d7",
   "metadata": {},
   "outputs": [],
   "source": [
    "import espaloma as esp\n",
    "from rdkit import Chem\n",
    "from openeye import oechem"
   ]
  },
  {
   "cell_type": "code",
   "execution_count": 2,
   "id": "50f40e5b-b6a6-4e0c-9eab-bee2028b6d11",
   "metadata": {},
   "outputs": [],
   "source": [
    "from rdkit.Chem.Draw import IPythonConsole\n",
    "IPythonConsole.drawOptions.addAtomIndices = True"
   ]
  },
  {
   "cell_type": "code",
   "execution_count": 3,
   "id": "4c0ba057-206d-4908-935f-a2aa548b4ed7",
   "metadata": {},
   "outputs": [],
   "source": [
    "HYBRIDIZATION_RDKIT = {\n",
    "    Chem.rdchem.HybridizationType.SP: [1, 0, 0, 0, 0],\n",
    "    Chem.rdchem.HybridizationType.SP2: [0, 1, 0, 0, 0],\n",
    "    Chem.rdchem.HybridizationType.SP3: [0, 0, 1, 0, 0],\n",
    "    Chem.rdchem.HybridizationType.SP3D: [0, 0, 0, 1, 0],\n",
    "    Chem.rdchem.HybridizationType.SP3D2: [0, 0, 0, 0, 1],\n",
    "    Chem.rdchem.HybridizationType.S: [0, 0, 0, 0, 0],\n",
    "    Chem.rdchem.HybridizationType.UNSPECIFIED: [0, 0, 0, 0, 0],\n",
    "    Chem.rdchem.HybridizationType.OTHER: [0, 0, 0, 0, 0],\n",
    "}\n",
    "\n",
    "HYBRIDIZATION_OE = {\n",
    "    oechem.OEHybridization_sp: [1, 0, 0, 0, 0],\n",
    "    oechem.OEHybridization_sp2: [0, 1, 0, 0, 0], \n",
    "    oechem.OEHybridization_sp3: [0, 0, 1, 0, 0],\n",
    "    oechem.OEHybridization_sp3d: [0, 0, 0, 1, 0],\n",
    "    oechem.OEHybridization_sp3d2: [0, 0, 0, 0, 1],\n",
    "    oechem.OEHybridization_Unknown: [0, 0, 0, 0, 0],\n",
    "}"
   ]
  },
  {
   "cell_type": "code",
   "execution_count": 4,
   "id": "5f4c7bfc-d3fc-47b4-9bc5-c16e36776458",
   "metadata": {},
   "outputs": [
    {
     "name": "stdout",
     "output_type": "stream",
     "text": [
      "[H]c1c([H])c([H])c(C(N([H])[H])=[N+]([H])[H])c([H])c1[H]\n"
     ]
    },
    {
     "data": {
      "text/plain": [
       "True"
      ]
     },
     "execution_count": 4,
     "metadata": {},
     "output_type": "execute_result"
    }
   ],
   "source": [
    "#smi = 'C1=CC=C(C=C1)C(=N)N'\n",
    "smi = 'C1=CC=C(C=C1)C(=[NH2+])N'\n",
    "\n",
    "mol = Chem.MolFromSmiles(smi)\n",
    "mol = Chem.AddHs(mol)\n",
    "\n",
    "rdmol = mol\n",
    "\n",
    "_smi = Chem.MolToSmiles(rdmol)\n",
    "print(_smi)\n",
    "oemol = oechem.OEGraphMol()\n",
    "oechem.OESmilesToMol(oemol, _smi)"
   ]
  },
  {
   "cell_type": "code",
   "execution_count": 5,
   "id": "64b54eaf-6763-4c65-87bc-64befa2c1c40",
   "metadata": {},
   "outputs": [
    {
     "data": {
      "image/png": "[encoded data removed]",
      "text/plain": [
       "<rdkit.Chem.rdchem.Mol at 0x7f25dbbcfe20>"
      ]
     },
     "execution_count": 5,
     "metadata": {},
     "output_type": "execute_result"
    }
   ],
   "source": [
    "rdmol"
   ]
  },
  {
   "cell_type": "markdown",
   "id": "f3d60af1-91dc-40fa-b620-02def9ae13d9",
   "metadata": {},
   "source": [
    "#### rdkit"
   ]
  },
  {
   "cell_type": "code",
   "execution_count": 6,
   "id": "087dd433-91b3-4b21-9be2-8536385a3c2c",
   "metadata": {},
   "outputs": [
    {
     "name": "stdout",
     "output_type": "stream",
     "text": [
      "0 6 3 1.0 0.0 0.0 0.0 1.0 0.0 0.0 [0, 1, 0, 0, 0]\n",
      "1 6 3 1.0 0.0 0.0 0.0 1.0 0.0 0.0 [0, 1, 0, 0, 0]\n",
      "2 6 3 1.0 0.0 0.0 0.0 1.0 0.0 0.0 [0, 1, 0, 0, 0]\n",
      "3 6 3 1.0 0.0 0.0 0.0 1.0 0.0 0.0 [0, 1, 0, 0, 0]\n",
      "4 6 3 1.0 0.0 0.0 0.0 1.0 0.0 0.0 [0, 1, 0, 0, 0]\n",
      "5 6 3 1.0 0.0 0.0 0.0 1.0 0.0 0.0 [0, 1, 0, 0, 0]\n",
      "6 6 3 0.0 0.0 0.0 0.0 0.0 0.0 0.0 [0, 1, 0, 0, 0]\n",
      "7 7 3 0.0 0.0 0.0 0.0 0.0 0.0 0.0 [0, 1, 0, 0, 0]\n",
      "8 7 3 0.0 0.0 0.0 0.0 0.0 0.0 0.0 [0, 1, 0, 0, 0]\n",
      "9 1 1 0.0 0.0 0.0 0.0 0.0 0.0 0.0 [0, 0, 0, 0, 0]\n",
      "10 1 1 0.0 0.0 0.0 0.0 0.0 0.0 0.0 [0, 0, 0, 0, 0]\n",
      "11 1 1 0.0 0.0 0.0 0.0 0.0 0.0 0.0 [0, 0, 0, 0, 0]\n",
      "12 1 1 0.0 0.0 0.0 0.0 0.0 0.0 0.0 [0, 0, 0, 0, 0]\n",
      "13 1 1 0.0 0.0 0.0 0.0 0.0 0.0 0.0 [0, 0, 0, 0, 0]\n",
      "14 1 1 0.0 0.0 0.0 0.0 0.0 0.0 0.0 [0, 0, 0, 0, 0]\n",
      "15 1 1 0.0 0.0 0.0 0.0 0.0 0.0 0.0 [0, 0, 0, 0, 0]\n",
      "16 1 1 0.0 0.0 0.0 0.0 0.0 0.0 0.0 [0, 0, 0, 0, 0]\n",
      "17 1 1 0.0 0.0 0.0 0.0 0.0 0.0 0.0 [0, 0, 0, 0, 0]\n"
     ]
    }
   ],
   "source": [
    "for atom in rdmol.GetAtoms():\n",
    "    print(\n",
    "        atom.GetIdx(),\n",
    "        atom.GetAtomicNum(),\n",
    "        atom.GetDegree(),\n",
    "        atom.GetIsAromatic() * 1.0,\n",
    "        atom.IsInRingSize(3) * 1.0,\n",
    "        atom.IsInRingSize(4) * 1.0,\n",
    "        atom.IsInRingSize(5) * 1.0,\n",
    "        atom.IsInRingSize(6) * 1.0,\n",
    "        atom.IsInRingSize(7) * 1.0,\n",
    "        atom.IsInRingSize(8) * 1.0,\n",
    "        HYBRIDIZATION_RDKIT[atom.GetHybridization()],\n",
    "    )"
   ]
  },
  {
   "cell_type": "code",
   "execution_count": 7,
   "id": "5217f76b-1a80-48c0-a2a7-e4c3689b1e15",
   "metadata": {},
   "outputs": [
    {
     "data": {
      "text/plain": [
       "False"
      ]
     },
     "execution_count": 7,
     "metadata": {},
     "output_type": "execute_result"
    }
   ],
   "source": [
    "atom.IsInRingSize(2)"
   ]
  },
  {
   "cell_type": "markdown",
   "id": "37145a4a-54a0-4e54-bd91-223fbc4145a8",
   "metadata": {},
   "source": [
    "#### openeye"
   ]
  },
  {
   "cell_type": "code",
   "execution_count": 8,
   "id": "b01d963f-d8d3-4032-bfc9-b5928f3e5374",
   "metadata": {},
   "outputs": [
    {
     "name": "stdout",
     "output_type": "stream",
     "text": [
      "1 1 0.0 0.0 0.0 0.0 0.0 0.0 0.0 [0, 0, 0, 0, 0]\n",
      "6 3 1.0 0.0 0.0 0.0 1.0 0.0 0.0 [0, 1, 0, 0, 0]\n",
      "6 3 1.0 0.0 0.0 0.0 1.0 0.0 0.0 [0, 1, 0, 0, 0]\n",
      "1 1 0.0 0.0 0.0 0.0 0.0 0.0 0.0 [0, 0, 0, 0, 0]\n",
      "6 3 1.0 0.0 0.0 0.0 1.0 0.0 0.0 [0, 1, 0, 0, 0]\n",
      "1 1 0.0 0.0 0.0 0.0 0.0 0.0 0.0 [0, 0, 0, 0, 0]\n",
      "6 3 1.0 0.0 0.0 0.0 1.0 0.0 0.0 [0, 1, 0, 0, 0]\n",
      "6 3 0.0 0.0 0.0 0.0 0.0 0.0 0.0 [0, 1, 0, 0, 0]\n",
      "7 3 0.0 0.0 0.0 0.0 0.0 0.0 0.0 [0, 1, 0, 0, 0]\n",
      "1 1 0.0 0.0 0.0 0.0 0.0 0.0 0.0 [0, 0, 0, 0, 0]\n",
      "1 1 0.0 0.0 0.0 0.0 0.0 0.0 0.0 [0, 0, 0, 0, 0]\n",
      "7 3 0.0 0.0 0.0 0.0 0.0 0.0 0.0 [0, 1, 0, 0, 0]\n",
      "1 1 0.0 0.0 0.0 0.0 0.0 0.0 0.0 [0, 0, 0, 0, 0]\n",
      "1 1 0.0 0.0 0.0 0.0 0.0 0.0 0.0 [0, 0, 0, 0, 0]\n",
      "6 3 1.0 0.0 0.0 0.0 1.0 0.0 0.0 [0, 1, 0, 0, 0]\n",
      "1 1 0.0 0.0 0.0 0.0 0.0 0.0 0.0 [0, 0, 0, 0, 0]\n",
      "6 3 1.0 0.0 0.0 0.0 1.0 0.0 0.0 [0, 1, 0, 0, 0]\n",
      "1 1 0.0 0.0 0.0 0.0 0.0 0.0 0.0 [0, 0, 0, 0, 0]\n"
     ]
    }
   ],
   "source": [
    "# openeye\n",
    "oechem.OEAssignHybridization(oemol)\n",
    "for atom in oemol.GetAtoms():\n",
    "    print(\n",
    "        #atom.GetIdx(),\n",
    "        atom.GetAtomicNum(),\n",
    "        atom.GetDegree(),\n",
    "        atom.IsAromatic() * 1.0,\n",
    "        oechem.OEAtomIsInRingSize(atom, 3) * 1.0,\n",
    "        oechem.OEAtomIsInRingSize(atom, 4) * 1.0,\n",
    "        oechem.OEAtomIsInRingSize(atom, 5) * 1.0,\n",
    "        oechem.OEAtomIsInRingSize(atom, 6) * 1.0,\n",
    "        oechem.OEAtomIsInRingSize(atom, 7) * 1.0,\n",
    "        oechem.OEAtomIsInRingSize(atom, 8) * 1.0,\n",
    "        HYBRIDIZATION_OE[atom.GetHyb()],\n",
    "    )"
   ]
  },
  {
   "cell_type": "markdown",
   "id": "3fa5fee9-1a00-4624-a7e2-6b8cb086ccc1",
   "metadata": {},
   "source": [
    "#### dgl"
   ]
  },
  {
   "cell_type": "code",
   "execution_count": 9,
   "id": "c493e029-8f45-4cf9-85f5-0fa33ea4b2e2",
   "metadata": {},
   "outputs": [],
   "source": [
    "from functools import partial"
   ]
  },
  {
   "cell_type": "code",
   "execution_count": 10,
   "id": "b1eb7bbd-13bb-4e70-8bcf-32923ea06998",
   "metadata": {},
   "outputs": [],
   "source": [
    "from dgllife.utils.featurizers import (\n",
    "    BaseAtomFeaturizer,\n",
    "    ConcatFeaturizer,\n",
    "    atom_type_one_hot,\n",
    "    atom_degree_one_hot,\n",
    "    atom_hybridization_one_hot,\n",
    "    atom_is_aromatic,\n",
    "    atom_total_num_H_one_hot,\n",
    "    atomic_number,\n",
    "    atom_degree,\n",
    "    atom_is_in_ring_one_hot,\n",
    "    one_hot_encoding\n",
    ")"
   ]
  },
  {
   "cell_type": "code",
   "execution_count": 11,
   "id": "8d997098-48e4-46a4-b3fa-0afcd42c2ffb",
   "metadata": {},
   "outputs": [],
   "source": [
    "def atom_is_in_ringsize_one_hot(atom):\n",
    "    \"\"\"One hot encoding ring size.\n",
    "    \"\"\"\n",
    "    return atom.IsInRingSize(3), atom.IsInRingSize(4), atom.IsInRingSize(5), atom.IsInRingSize(6), atom.IsInRingSize(7), atom.IsInRingSize(8)"
   ]
  },
  {
   "cell_type": "code",
   "execution_count": 12,
   "id": "d3a48155-2704-4f8d-8074-1738b72943c3",
   "metadata": {},
   "outputs": [],
   "source": [
    "class AtomFeaturizer(BaseAtomFeaturizer):\n",
    "    def __init__(self, atom_data_field='h'):\n",
    "        super().__init__(\n",
    "            featurizer_funcs={atom_data_field: ConcatFeaturizer(\n",
    "                [atomic_number,  # this is to clafiry atomic number. not for production.\n",
    "                 atom_type_one_hot,\n",
    "                 atom_degree_one_hot,\n",
    "                 atom_is_aromatic,\n",
    "                 atom_is_in_ringsize_one_hot,\n",
    "                 atom_hybridization_one_hot,\n",
    "                ]\n",
    "            )})"
   ]
  },
  {
   "cell_type": "code",
   "execution_count": 13,
   "id": "deeee66f-5a64-4939-8228-2c154fefbddd",
   "metadata": {},
   "outputs": [],
   "source": [
    "node_featurizer=AtomFeaturizer(\"h0\")"
   ]
  },
  {
   "cell_type": "code",
   "execution_count": 14,
   "id": "20420548-24b3-4902-bd35-a24f74dd8430",
   "metadata": {},
   "outputs": [
    {
     "data": {
      "text/plain": [
       "67"
      ]
     },
     "execution_count": 14,
     "metadata": {},
     "output_type": "execute_result"
    }
   ],
   "source": [
    "node_featurizer.feat_size()"
   ]
  },
  {
   "cell_type": "code",
   "execution_count": 15,
   "id": "8509995f-73fa-4889-9434-7e61d2216095",
   "metadata": {},
   "outputs": [],
   "source": [
    "f = node_featurizer(rdmol)"
   ]
  },
  {
   "cell_type": "code",
   "execution_count": 16,
   "id": "8855c254-281f-4c76-aca8-65025622dff7",
   "metadata": {},
   "outputs": [
    {
     "data": {
      "text/plain": [
       "array([[6., 1., 0., ..., 0., 0., 0.],\n",
       "       [6., 1., 0., ..., 0., 0., 0.],\n",
       "       [6., 1., 0., ..., 0., 0., 0.],\n",
       "       ...,\n",
       "       [1., 0., 0., ..., 0., 0., 0.],\n",
       "       [1., 0., 0., ..., 0., 0., 0.],\n",
       "       [1., 0., 0., ..., 0., 0., 0.]], dtype=float32)"
      ]
     },
     "execution_count": 16,
     "metadata": {},
     "output_type": "execute_result"
    }
   ],
   "source": [
    "f['h0'].numpy()"
   ]
  },
  {
   "cell_type": "code",
   "execution_count": 20,
   "id": "72165bc3-1d4d-4c22-8888-65c1ef83ed22",
   "metadata": {},
   "outputs": [
    {
     "data": {
      "text/plain": [
       "array([7., 0., 1., 0., 0., 0., 0., 0., 0., 0., 0., 0., 0., 0., 0., 0., 0.,\n",
       "       0., 0., 0., 0., 0., 0., 0., 0., 0., 0., 0., 0., 0., 0., 0., 0., 0.,\n",
       "       0., 0., 0., 0., 0., 0., 0., 0., 0., 0., 0., 0., 0., 1., 0., 0., 0.,\n",
       "       0., 0., 0., 0., 0., 0., 0., 0., 0., 0., 0., 0., 1., 0., 0., 0.],\n",
       "      dtype=float32)"
      ]
     },
     "execution_count": 20,
     "metadata": {},
     "output_type": "execute_result"
    }
   ],
   "source": [
    "# first nitrogen\n",
    "f['h0'].numpy()[7]"
   ]
  },
  {
   "cell_type": "code",
   "execution_count": 21,
   "id": "0f2a7aeb-843a-4526-a76d-8641b356821a",
   "metadata": {},
   "outputs": [
    {
     "data": {
      "text/plain": [
       "array([7., 0., 1., 0., 0., 0., 0., 0., 0., 0., 0., 0., 0., 0., 0., 0., 0.,\n",
       "       0., 0., 0., 0., 0., 0., 0., 0., 0., 0., 0., 0., 0., 0., 0., 0., 0.,\n",
       "       0., 0., 0., 0., 0., 0., 0., 0., 0., 0., 0., 0., 0., 1., 0., 0., 0.,\n",
       "       0., 0., 0., 0., 0., 0., 0., 0., 0., 0., 0., 0., 1., 0., 0., 0.],\n",
       "      dtype=float32)"
      ]
     },
     "execution_count": 21,
     "metadata": {},
     "output_type": "execute_result"
    }
   ],
   "source": [
    "# second nitrogen\n",
    "f['h0'].numpy()[8]"
   ]
  },
  {
   "cell_type": "code",
   "execution_count": 22,
   "id": "79728978-67b9-44cb-9ac9-55a8e8060fab",
   "metadata": {},
   "outputs": [],
   "source": [
    "assert f['h0'].numpy()[7].flatten().all() == f['h0'].numpy()[8].flatten().all()"
   ]
  },
  {
   "cell_type": "code",
   "execution_count": null,
   "id": "2c321a3b-d5ac-4a4f-b5bc-f447a3d2c2be",
   "metadata": {},
   "outputs": [],
   "source": []
  },
  {
   "cell_type": "code",
   "execution_count": null,
   "id": "f8772fdd-480f-4229-ba9f-54c8c29935c9",
   "metadata": {},
   "outputs": [],
   "source": []
  }
 ],
 "metadata": {
  "kernelspec": {
   "display_name": "Python 3 (ipykernel)",
   "language": "python",
   "name": "python3"
  },
  "language_info": {
   "codemirror_mode": {
    "name": "ipython",
    "version": 3
   },
   "file_extension": ".py",
   "mimetype": "text/x-python",
   "name": "python",
   "nbconvert_exporter": "python",
   "pygments_lexer": "ipython3",
   "version": "3.9.13"
  }
 },
 "nbformat": 4,
 "nbformat_minor": 5
}
